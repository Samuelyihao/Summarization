{
 "cells": [
  {
   "cell_type": "code",
   "execution_count": 1,
   "metadata": {},
   "outputs": [],
   "source": [
    "keyword = '肺炎'\n",
    "num_of_news = 20"
   ]
  },
  {
   "cell_type": "code",
   "execution_count": 2,
   "metadata": {},
   "outputs": [
    {
     "output_type": "stream",
     "name": "stdout",
     "text": "下載篇數：1\n視頻\n下載篇數：2\n下載篇數：3\n下載篇數：4\n下載篇數：5\n下載篇數：6\n下載篇數：7\n下載篇數：8\n下載篇數：9\n下載篇數：10\n下載篇數：11\n下載篇數：12\n下載篇數：13\n下載篇數：14\n下載篇數：15\n下載篇數：16\n視頻\n下載篇數：17\n下載篇數：18\n下載篇數：19\n下載篇數：20\n"
    }
   ],
   "source": [
    "import crawl_news\n",
    "df_news = crawl_news.Crawl_BBC(keyword, num_of_news).make_dataframe()"
   ]
  },
  {
   "cell_type": "code",
   "execution_count": 3,
   "metadata": {},
   "outputs": [
    {
     "output_type": "execute_result",
     "data": {
      "text/plain": "                                title          time  \\\n0              肺炎疫情：全球主要疫情國陸續開始不同程度解封   2020年 5月 2日   \n1          肺炎疫情：世衛組織回應譴責，稱處理疫情「未浪費時間」   2020年 5月 2日   \n2              肺炎疫情：中國遊客滯留巴基斯坦 求助使館無果   2020年 5月 2日   \n3          肺炎疫情：美國洛杉磯市向全體居民提供免費新冠病毒檢測   2020年 5月 2日   \n4               肺炎疫情中的反思 從隔離孤獨感聯想氣候變化   2020年 5月 1日   \n5              肺炎疫情：牛津大學疫苗「或年底前供有限使用」   2020年 5月 1日   \n6            肺炎疫情下自僱族的苦衷：「我因休產假而受到懲罰」   2020年 5月 1日   \n7                 肺炎疫情：日本低檢測率引發的質疑和擔憂   2020年 5月 1日   \n8            肺炎疫情：俄羅斯總理米舒斯金確診感染新型冠狀病毒   2020年 5月 1日   \n9                肺炎疫情：新冠病毒死者遺體會不會傳播疾病  2020年 4月 30日   \n10              肺炎疫情正能量 盤點五大溫暖人心的抗疫故事  2020年 4月 30日   \n11  肺炎疫情：特朗普稱看到病毒源於中國實驗室的證據 與情報總監說法相左   2020年 5月 1日   \n12        肺炎疫情：美情報部門首次承認新冠病毒並非人造或基因改造  2020年 4月 30日   \n13      肺炎疫情：美國經濟一季度萎縮4.8%，為2008年以來之最  2020年 4月 30日   \n14                 肺炎疫情：美國反封鎖抗議潮台前與幕後  2020年 4月 29日   \n15                肺炎疫情：在飛機上如何維持安全間隔距離  2020年 4月 29日   \n16              肺炎疫情：康復後就有免疫力防止第二次感染？  2020年 4月 29日   \n17      肺炎疫情：韓國本土新增歸零 亞洲抗擊新冠成效顯著的五個秘訣  2020年 4月 30日   \n18               肺炎疫情：為挽救經濟，美聯儲想出這四大招  2020年 4月 29日   \n19                   肺炎疫情下華裔美國人的困境與機遇  2020年 4月 29日   \n\n                                              content  \\\n0   馬德里、巴塞羅那，還有西班牙其他城市，周六（5月2日）早晨舒醒後，發現街頭巷尾、海濱大道上再...   \n1   世界衛生組織對其應對疫情不利的批評做出回應，稱該組織在病毒爆發初期「沒有浪費時間」。世衛組織...   \n2   儘管中國新型冠狀病毒疫情已經大幅好轉，但疾病仍在全球蔓延。在中國鄰國巴基斯坦，一些中國遊客稱...   \n3   美國洛杉磯市向全體居民提供免費的新型冠狀病毒檢測，無論他們是否有症狀。在洛杉磯縣報告2019...   \n4   世界迅速變化可能讓人倍感孤獨，但是疫情期間的隔離是否讓我們找到線索去解決氣候變化這個日積月累...   \n5   製藥巨頭阿斯利康（AstraZeneca）總裁蘇博科（PascalSoriot）日前表示，一...   \n6   和許多英國人一樣，從事個體經營的人生教練貝克（LucyBaker）發現，當冠狀病毒來襲後，她...   \n7   為什麼日本不下令封鎖？世界各地朋友問過我很多次這個問題。考慮到歐洲和美國的情況，封鎖措施不足...   \n8   俄羅斯總理米哈伊爾·米舒斯金（MikhailMishustin）被確診感染新型冠狀病毒，已經...   \n9   新型冠狀病毒疫情席捲全球造成許多人不幸病故，最讓死者家屬難過的是許多人沒辦法見到親人的最後一...   \n10  英國百歲老人湯姆·摩爾為國民醫療系統募捐3000多萬英鎊，成為英國抗擊新冠病毒大流行的一個傳...   \n11  美國總統特朗普（DonaldTrump）在周四白宮記者會上表示，他看到過新冠病毒起源於中國實...   \n12  美國情報機關公開聲明新冠病毒並非人造或經過基因改造而成病毒。這是華盛頓首次就病毒起源明確表態...   \n13  今年一季度，美國經濟遭遇了十多年來最嚴重萎縮，背後原因是美國為減緩新冠病毒傳播而實施封鎖措施...   \n14  眼下，美國疫情依然嚴峻，新冠感染確診突破百萬，死亡沒有持續下降。但是過去兩個星期，美國多地不...   \n15  隨著更多國家正在計劃逐步解除新型冠狀病毒的封鎖措施，航空公司也在思考旅行禁令鬆綁後要如何恢復...   \n16  新冠疫情困擾著每一個人。有關新冠病毒的許多事情我們仍然不清楚。例如，為什麼有人病情非常嚴重，...   \n17  從年初疫情在中國武漢爆發到4月底，新冠病毒已經擴散到全世界185個國家，感染人數超過300萬...   \n18  美國中央銀行的決策層凖備於本周召開網上會議，將研究他們目前為應對自「大蕭條」（theGrea...   \n19  波士頓大學工程學院副教授、華裔美國人王華在2月底新冠病毒開始在美國蔓延時，帶領馬薩諸塞州（麻...   \n\n                                                  url  \n0   https://www.bbc.co.uk/zhongwen/trad/world-5244...  \n1   https://www.bbc.co.uk/zhongwen/trad/world-5251...  \n2   https://www.bbc.co.uk/zhongwen/trad/chinese-ne...  \n3   https://www.bbc.co.uk/zhongwen/trad/world-5250...  \n4   https://www.bbc.co.uk/zhongwen/trad/world-5250...  \n5   https://www.bbc.co.uk/zhongwen/trad/science-52...  \n6   https://www.bbc.co.uk/zhongwen/trad/world-5249...  \n7   https://www.bbc.co.uk/zhongwen/trad/world-5248...  \n8   https://www.bbc.co.uk/zhongwen/trad/world-5249...  \n9   https://www.bbc.co.uk/zhongwen/trad/science-52...  \n10  https://www.bbc.co.uk/zhongwen/trad/world-5249...  \n11  https://www.bbc.co.uk/zhongwen/trad/world-5249...  \n12  https://www.bbc.co.uk/zhongwen/trad/world-5249...  \n13  https://www.bbc.co.uk/zhongwen/trad/business-5...  \n14  https://www.bbc.co.uk/zhongwen/trad/world-5247...  \n15  https://www.bbc.co.uk/zhongwen/trad/world-5246...  \n16  https://www.bbc.co.uk/zhongwen/trad/world-5246...  \n17  https://www.bbc.co.uk/zhongwen/trad/world-5245...  \n18  https://www.bbc.co.uk/zhongwen/trad/business-5...  \n19  https://www.bbc.co.uk/zhongwen/trad/world-5239...  ",
      "text/html": "<div>\n<style scoped>\n    .dataframe tbody tr th:only-of-type {\n        vertical-align: middle;\n    }\n\n    .dataframe tbody tr th {\n        vertical-align: top;\n    }\n\n    .dataframe thead th {\n        text-align: right;\n    }\n</style>\n<table border=\"1\" class=\"dataframe\">\n  <thead>\n    <tr style=\"text-align: right;\">\n      <th></th>\n      <th>title</th>\n      <th>time</th>\n      <th>content</th>\n      <th>url</th>\n    </tr>\n  </thead>\n  <tbody>\n    <tr>\n      <th>0</th>\n      <td>肺炎疫情：全球主要疫情國陸續開始不同程度解封</td>\n      <td>2020年 5月 2日</td>\n      <td>馬德里、巴塞羅那，還有西班牙其他城市，周六（5月2日）早晨舒醒後，發現街頭巷尾、海濱大道上再...</td>\n      <td>https://www.bbc.co.uk/zhongwen/trad/world-5244...</td>\n    </tr>\n    <tr>\n      <th>1</th>\n      <td>肺炎疫情：世衛組織回應譴責，稱處理疫情「未浪費時間」</td>\n      <td>2020年 5月 2日</td>\n      <td>世界衛生組織對其應對疫情不利的批評做出回應，稱該組織在病毒爆發初期「沒有浪費時間」。世衛組織...</td>\n      <td>https://www.bbc.co.uk/zhongwen/trad/world-5251...</td>\n    </tr>\n    <tr>\n      <th>2</th>\n      <td>肺炎疫情：中國遊客滯留巴基斯坦 求助使館無果</td>\n      <td>2020年 5月 2日</td>\n      <td>儘管中國新型冠狀病毒疫情已經大幅好轉，但疾病仍在全球蔓延。在中國鄰國巴基斯坦，一些中國遊客稱...</td>\n      <td>https://www.bbc.co.uk/zhongwen/trad/chinese-ne...</td>\n    </tr>\n    <tr>\n      <th>3</th>\n      <td>肺炎疫情：美國洛杉磯市向全體居民提供免費新冠病毒檢測</td>\n      <td>2020年 5月 2日</td>\n      <td>美國洛杉磯市向全體居民提供免費的新型冠狀病毒檢測，無論他們是否有症狀。在洛杉磯縣報告2019...</td>\n      <td>https://www.bbc.co.uk/zhongwen/trad/world-5250...</td>\n    </tr>\n    <tr>\n      <th>4</th>\n      <td>肺炎疫情中的反思 從隔離孤獨感聯想氣候變化</td>\n      <td>2020年 5月 1日</td>\n      <td>世界迅速變化可能讓人倍感孤獨，但是疫情期間的隔離是否讓我們找到線索去解決氣候變化這個日積月累...</td>\n      <td>https://www.bbc.co.uk/zhongwen/trad/world-5250...</td>\n    </tr>\n    <tr>\n      <th>5</th>\n      <td>肺炎疫情：牛津大學疫苗「或年底前供有限使用」</td>\n      <td>2020年 5月 1日</td>\n      <td>製藥巨頭阿斯利康（AstraZeneca）總裁蘇博科（PascalSoriot）日前表示，一...</td>\n      <td>https://www.bbc.co.uk/zhongwen/trad/science-52...</td>\n    </tr>\n    <tr>\n      <th>6</th>\n      <td>肺炎疫情下自僱族的苦衷：「我因休產假而受到懲罰」</td>\n      <td>2020年 5月 1日</td>\n      <td>和許多英國人一樣，從事個體經營的人生教練貝克（LucyBaker）發現，當冠狀病毒來襲後，她...</td>\n      <td>https://www.bbc.co.uk/zhongwen/trad/world-5249...</td>\n    </tr>\n    <tr>\n      <th>7</th>\n      <td>肺炎疫情：日本低檢測率引發的質疑和擔憂</td>\n      <td>2020年 5月 1日</td>\n      <td>為什麼日本不下令封鎖？世界各地朋友問過我很多次這個問題。考慮到歐洲和美國的情況，封鎖措施不足...</td>\n      <td>https://www.bbc.co.uk/zhongwen/trad/world-5248...</td>\n    </tr>\n    <tr>\n      <th>8</th>\n      <td>肺炎疫情：俄羅斯總理米舒斯金確診感染新型冠狀病毒</td>\n      <td>2020年 5月 1日</td>\n      <td>俄羅斯總理米哈伊爾·米舒斯金（MikhailMishustin）被確診感染新型冠狀病毒，已經...</td>\n      <td>https://www.bbc.co.uk/zhongwen/trad/world-5249...</td>\n    </tr>\n    <tr>\n      <th>9</th>\n      <td>肺炎疫情：新冠病毒死者遺體會不會傳播疾病</td>\n      <td>2020年 4月 30日</td>\n      <td>新型冠狀病毒疫情席捲全球造成許多人不幸病故，最讓死者家屬難過的是許多人沒辦法見到親人的最後一...</td>\n      <td>https://www.bbc.co.uk/zhongwen/trad/science-52...</td>\n    </tr>\n    <tr>\n      <th>10</th>\n      <td>肺炎疫情正能量 盤點五大溫暖人心的抗疫故事</td>\n      <td>2020年 4月 30日</td>\n      <td>英國百歲老人湯姆·摩爾為國民醫療系統募捐3000多萬英鎊，成為英國抗擊新冠病毒大流行的一個傳...</td>\n      <td>https://www.bbc.co.uk/zhongwen/trad/world-5249...</td>\n    </tr>\n    <tr>\n      <th>11</th>\n      <td>肺炎疫情：特朗普稱看到病毒源於中國實驗室的證據 與情報總監說法相左</td>\n      <td>2020年 5月 1日</td>\n      <td>美國總統特朗普（DonaldTrump）在周四白宮記者會上表示，他看到過新冠病毒起源於中國實...</td>\n      <td>https://www.bbc.co.uk/zhongwen/trad/world-5249...</td>\n    </tr>\n    <tr>\n      <th>12</th>\n      <td>肺炎疫情：美情報部門首次承認新冠病毒並非人造或基因改造</td>\n      <td>2020年 4月 30日</td>\n      <td>美國情報機關公開聲明新冠病毒並非人造或經過基因改造而成病毒。這是華盛頓首次就病毒起源明確表態...</td>\n      <td>https://www.bbc.co.uk/zhongwen/trad/world-5249...</td>\n    </tr>\n    <tr>\n      <th>13</th>\n      <td>肺炎疫情：美國經濟一季度萎縮4.8%，為2008年以來之最</td>\n      <td>2020年 4月 30日</td>\n      <td>今年一季度，美國經濟遭遇了十多年來最嚴重萎縮，背後原因是美國為減緩新冠病毒傳播而實施封鎖措施...</td>\n      <td>https://www.bbc.co.uk/zhongwen/trad/business-5...</td>\n    </tr>\n    <tr>\n      <th>14</th>\n      <td>肺炎疫情：美國反封鎖抗議潮台前與幕後</td>\n      <td>2020年 4月 29日</td>\n      <td>眼下，美國疫情依然嚴峻，新冠感染確診突破百萬，死亡沒有持續下降。但是過去兩個星期，美國多地不...</td>\n      <td>https://www.bbc.co.uk/zhongwen/trad/world-5247...</td>\n    </tr>\n    <tr>\n      <th>15</th>\n      <td>肺炎疫情：在飛機上如何維持安全間隔距離</td>\n      <td>2020年 4月 29日</td>\n      <td>隨著更多國家正在計劃逐步解除新型冠狀病毒的封鎖措施，航空公司也在思考旅行禁令鬆綁後要如何恢復...</td>\n      <td>https://www.bbc.co.uk/zhongwen/trad/world-5246...</td>\n    </tr>\n    <tr>\n      <th>16</th>\n      <td>肺炎疫情：康復後就有免疫力防止第二次感染？</td>\n      <td>2020年 4月 29日</td>\n      <td>新冠疫情困擾著每一個人。有關新冠病毒的許多事情我們仍然不清楚。例如，為什麼有人病情非常嚴重，...</td>\n      <td>https://www.bbc.co.uk/zhongwen/trad/world-5246...</td>\n    </tr>\n    <tr>\n      <th>17</th>\n      <td>肺炎疫情：韓國本土新增歸零 亞洲抗擊新冠成效顯著的五個秘訣</td>\n      <td>2020年 4月 30日</td>\n      <td>從年初疫情在中國武漢爆發到4月底，新冠病毒已經擴散到全世界185個國家，感染人數超過300萬...</td>\n      <td>https://www.bbc.co.uk/zhongwen/trad/world-5245...</td>\n    </tr>\n    <tr>\n      <th>18</th>\n      <td>肺炎疫情：為挽救經濟，美聯儲想出這四大招</td>\n      <td>2020年 4月 29日</td>\n      <td>美國中央銀行的決策層凖備於本周召開網上會議，將研究他們目前為應對自「大蕭條」（theGrea...</td>\n      <td>https://www.bbc.co.uk/zhongwen/trad/business-5...</td>\n    </tr>\n    <tr>\n      <th>19</th>\n      <td>肺炎疫情下華裔美國人的困境與機遇</td>\n      <td>2020年 4月 29日</td>\n      <td>波士頓大學工程學院副教授、華裔美國人王華在2月底新冠病毒開始在美國蔓延時，帶領馬薩諸塞州（麻...</td>\n      <td>https://www.bbc.co.uk/zhongwen/trad/world-5239...</td>\n    </tr>\n  </tbody>\n</table>\n</div>"
     },
     "metadata": {},
     "execution_count": 3
    }
   ],
   "source": [
    "df_news"
   ]
  },
  {
   "cell_type": "code",
   "execution_count": 4,
   "metadata": {},
   "outputs": [
    {
     "output_type": "stream",
     "name": "stderr",
     "text": "Building prefix dict from the default dictionary ...\nLoading model from cache C:\\Users\\yalon\\AppData\\Local\\Temp\\jieba.cache\nLoading model cost 0.740 seconds.\nPrefix dict has been built successfully.\n"
    }
   ],
   "source": [
    "from lda_topic_model import LDAclass\n",
    "lda = LDAclass(df_news, chinese_only=True)"
   ]
  },
  {
   "cell_type": "code",
   "execution_count": 5,
   "metadata": {},
   "outputs": [
    {
     "output_type": "stream",
     "name": "stdout",
     "text": "iteration: 1 of max_iter: 100\niteration: 2 of max_iter: 100\niteration: 3 of max_iter: 100\niteration: 4 of max_iter: 100\niteration: 5 of max_iter: 100\niteration: 6 of max_iter: 100\niteration: 7 of max_iter: 100\niteration: 8 of max_iter: 100\niteration: 9 of max_iter: 100\niteration: 10 of max_iter: 100, perplexity: 382.2407\niteration: 11 of max_iter: 100\niteration: 12 of max_iter: 100\niteration: 13 of max_iter: 100\niteration: 14 of max_iter: 100\niteration: 15 of max_iter: 100\niteration: 16 of max_iter: 100\niteration: 17 of max_iter: 100\niteration: 18 of max_iter: 100\niteration: 19 of max_iter: 100\niteration: 20 of max_iter: 100, perplexity: 381.8801\niteration: 21 of max_iter: 100\niteration: 22 of max_iter: 100\niteration: 23 of max_iter: 100\niteration: 24 of max_iter: 100\niteration: 25 of max_iter: 100\niteration: 26 of max_iter: 100\niteration: 27 of max_iter: 100\niteration: 28 of max_iter: 100\niteration: 29 of max_iter: 100\niteration: 30 of max_iter: 100, perplexity: 381.4764\niteration: 31 of max_iter: 100\niteration: 32 of max_iter: 100\niteration: 33 of max_iter: 100\niteration: 34 of max_iter: 100\niteration: 35 of max_iter: 100\niteration: 36 of max_iter: 100\niteration: 37 of max_iter: 100\niteration: 38 of max_iter: 100\niteration: 39 of max_iter: 100\niteration: 40 of max_iter: 100, perplexity: 381.3234\niteration: 41 of max_iter: 100\niteration: 42 of max_iter: 100\niteration: 43 of max_iter: 100\niteration: 44 of max_iter: 100\niteration: 45 of max_iter: 100\niteration: 46 of max_iter: 100\niteration: 47 of max_iter: 100\niteration: 48 of max_iter: 100\niteration: 49 of max_iter: 100\niteration: 50 of max_iter: 100, perplexity: 381.3146\n"
    }
   ],
   "source": [
    "lda.lda_class(n_topics=3, max_iter=100, evaluate_every=10, verbose=1)"
   ]
  },
  {
   "cell_type": "code",
   "execution_count": 6,
   "metadata": {},
   "outputs": [
    {
     "output_type": "execute_result",
     "data": {
      "text/plain": "(3, 381.3145751551576)"
     },
     "metadata": {},
     "execution_count": 6
    }
   ],
   "source": [
    "lda.perplexity"
   ]
  },
  {
   "cell_type": "code",
   "execution_count": 7,
   "metadata": {},
   "outputs": [
    {
     "output_type": "execute_result",
     "data": {
      "text/plain": "array([[9.97798651e-01, 1.08295118e-03, 1.11839744e-03],\n       [9.95995535e-01, 2.05036821e-03, 1.95409714e-03],\n       [1.57021244e-03, 1.46742722e-03, 9.96962360e-01],\n       [2.08361292e-03, 9.95781294e-01, 2.13509350e-03],\n       [9.97930036e-01, 1.06038106e-03, 1.00958289e-03],\n       [2.81453742e-03, 9.94491760e-01, 2.69370249e-03],\n       [9.96259362e-01, 1.92791686e-03, 1.81272121e-03],\n       [1.08461606e-03, 1.11489802e-03, 9.97800486e-01],\n       [2.08371150e-03, 9.95776116e-01, 2.14017265e-03],\n       [1.41051253e-03, 9.97239257e-01, 1.35023004e-03],\n       [8.22724807e-01, 1.74752770e-01, 2.52242298e-03],\n       [9.97587324e-01, 1.22065569e-03, 1.19202042e-03],\n       [9.97371958e-01, 1.36040580e-03, 1.26763645e-03],\n       [3.63602631e-01, 6.34918469e-01, 1.47889991e-03],\n       [9.97832415e-01, 1.06880188e-03, 1.09878347e-03],\n       [9.97897366e-01, 1.05569021e-03, 1.04694378e-03],\n       [9.37097229e-04, 9.98134107e-01, 9.28795514e-04],\n       [9.17737899e-04, 9.08455525e-04, 9.98173807e-01],\n       [1.03909948e-03, 9.97953960e-01, 1.00694089e-03],\n       [9.35798099e-04, 9.98211729e-01, 8.52472766e-04]])"
     },
     "metadata": {},
     "execution_count": 7
    }
   ],
   "source": [
    "lda.problist"
   ]
  },
  {
   "cell_type": "code",
   "execution_count": 8,
   "metadata": {},
   "outputs": [
    {
     "output_type": "execute_result",
     "data": {
      "text/plain": "                                title          time  \\\n0              肺炎疫情：全球主要疫情國陸續開始不同程度解封   2020年 5月 2日   \n1          肺炎疫情：世衛組織回應譴責，稱處理疫情「未浪費時間」   2020年 5月 2日   \n2              肺炎疫情：中國遊客滯留巴基斯坦 求助使館無果   2020年 5月 2日   \n3          肺炎疫情：美國洛杉磯市向全體居民提供免費新冠病毒檢測   2020年 5月 2日   \n4               肺炎疫情中的反思 從隔離孤獨感聯想氣候變化   2020年 5月 1日   \n5              肺炎疫情：牛津大學疫苗「或年底前供有限使用」   2020年 5月 1日   \n6            肺炎疫情下自僱族的苦衷：「我因休產假而受到懲罰」   2020年 5月 1日   \n7                 肺炎疫情：日本低檢測率引發的質疑和擔憂   2020年 5月 1日   \n8            肺炎疫情：俄羅斯總理米舒斯金確診感染新型冠狀病毒   2020年 5月 1日   \n9                肺炎疫情：新冠病毒死者遺體會不會傳播疾病  2020年 4月 30日   \n10              肺炎疫情正能量 盤點五大溫暖人心的抗疫故事  2020年 4月 30日   \n11  肺炎疫情：特朗普稱看到病毒源於中國實驗室的證據 與情報總監說法相左   2020年 5月 1日   \n12        肺炎疫情：美情報部門首次承認新冠病毒並非人造或基因改造  2020年 4月 30日   \n13      肺炎疫情：美國經濟一季度萎縮4.8%，為2008年以來之最  2020年 4月 30日   \n14                 肺炎疫情：美國反封鎖抗議潮台前與幕後  2020年 4月 29日   \n15                肺炎疫情：在飛機上如何維持安全間隔距離  2020年 4月 29日   \n16              肺炎疫情：康復後就有免疫力防止第二次感染？  2020年 4月 29日   \n17      肺炎疫情：韓國本土新增歸零 亞洲抗擊新冠成效顯著的五個秘訣  2020年 4月 30日   \n18               肺炎疫情：為挽救經濟，美聯儲想出這四大招  2020年 4月 29日   \n19                   肺炎疫情下華裔美國人的困境與機遇  2020年 4月 29日   \n\n                                              content  \\\n0   馬德里、巴塞羅那，還有西班牙其他城市，周六（5月2日）早晨舒醒後，發現街頭巷尾、海濱大道上再...   \n1   世界衛生組織對其應對疫情不利的批評做出回應，稱該組織在病毒爆發初期「沒有浪費時間」。世衛組織...   \n2   儘管中國新型冠狀病毒疫情已經大幅好轉，但疾病仍在全球蔓延。在中國鄰國巴基斯坦，一些中國遊客稱...   \n3   美國洛杉磯市向全體居民提供免費的新型冠狀病毒檢測，無論他們是否有症狀。在洛杉磯縣報告2019...   \n4   世界迅速變化可能讓人倍感孤獨，但是疫情期間的隔離是否讓我們找到線索去解決氣候變化這個日積月累...   \n5   製藥巨頭阿斯利康（AstraZeneca）總裁蘇博科（PascalSoriot）日前表示，一...   \n6   和許多英國人一樣，從事個體經營的人生教練貝克（LucyBaker）發現，當冠狀病毒來襲後，她...   \n7   為什麼日本不下令封鎖？世界各地朋友問過我很多次這個問題。考慮到歐洲和美國的情況，封鎖措施不足...   \n8   俄羅斯總理米哈伊爾·米舒斯金（MikhailMishustin）被確診感染新型冠狀病毒，已經...   \n9   新型冠狀病毒疫情席捲全球造成許多人不幸病故，最讓死者家屬難過的是許多人沒辦法見到親人的最後一...   \n10  英國百歲老人湯姆·摩爾為國民醫療系統募捐3000多萬英鎊，成為英國抗擊新冠病毒大流行的一個傳...   \n11  美國總統特朗普（DonaldTrump）在周四白宮記者會上表示，他看到過新冠病毒起源於中國實...   \n12  美國情報機關公開聲明新冠病毒並非人造或經過基因改造而成病毒。這是華盛頓首次就病毒起源明確表態...   \n13  今年一季度，美國經濟遭遇了十多年來最嚴重萎縮，背後原因是美國為減緩新冠病毒傳播而實施封鎖措施...   \n14  眼下，美國疫情依然嚴峻，新冠感染確診突破百萬，死亡沒有持續下降。但是過去兩個星期，美國多地不...   \n15  隨著更多國家正在計劃逐步解除新型冠狀病毒的封鎖措施，航空公司也在思考旅行禁令鬆綁後要如何恢復...   \n16  新冠疫情困擾著每一個人。有關新冠病毒的許多事情我們仍然不清楚。例如，為什麼有人病情非常嚴重，...   \n17  從年初疫情在中國武漢爆發到4月底，新冠病毒已經擴散到全世界185個國家，感染人數超過300萬...   \n18  美國中央銀行的決策層凖備於本周召開網上會議，將研究他們目前為應對自「大蕭條」（theGrea...   \n19  波士頓大學工程學院副教授、華裔美國人王華在2月底新冠病毒開始在美國蔓延時，帶領馬薩諸塞州（麻...   \n\n                                                  url  \\\n0   https://www.bbc.co.uk/zhongwen/trad/world-5244...   \n1   https://www.bbc.co.uk/zhongwen/trad/world-5251...   \n2   https://www.bbc.co.uk/zhongwen/trad/chinese-ne...   \n3   https://www.bbc.co.uk/zhongwen/trad/world-5250...   \n4   https://www.bbc.co.uk/zhongwen/trad/world-5250...   \n5   https://www.bbc.co.uk/zhongwen/trad/science-52...   \n6   https://www.bbc.co.uk/zhongwen/trad/world-5249...   \n7   https://www.bbc.co.uk/zhongwen/trad/world-5248...   \n8   https://www.bbc.co.uk/zhongwen/trad/world-5249...   \n9   https://www.bbc.co.uk/zhongwen/trad/science-52...   \n10  https://www.bbc.co.uk/zhongwen/trad/world-5249...   \n11  https://www.bbc.co.uk/zhongwen/trad/world-5249...   \n12  https://www.bbc.co.uk/zhongwen/trad/world-5249...   \n13  https://www.bbc.co.uk/zhongwen/trad/business-5...   \n14  https://www.bbc.co.uk/zhongwen/trad/world-5247...   \n15  https://www.bbc.co.uk/zhongwen/trad/world-5246...   \n16  https://www.bbc.co.uk/zhongwen/trad/world-5246...   \n17  https://www.bbc.co.uk/zhongwen/trad/world-5245...   \n18  https://www.bbc.co.uk/zhongwen/trad/business-5...   \n19  https://www.bbc.co.uk/zhongwen/trad/world-5239...   \n\n                                                jieba  topic  \n0   馬 德里 、 巴塞 羅 那 ， 還有 西班牙 其他 城市 ， 周六 （ 5 月 2 日 ） ...      0  \n1   世界 衛生 組織 對 其應 對 疫情 不利 的 批評 做出 回應 ， 稱該 組織 在 病毒 ...      0  \n2   儘 管 中 國 新型 冠狀 病毒 疫情 已經 大幅 好轉 ， 但 疾病 仍 在 全球 蔓延 ...      2  \n3   美國洛杉磯 市 向 全體 居民 提供 免費 的 新型 冠狀 病毒 檢測 ， 無論 他們 是否...      1  \n4   世界 迅速 變化 可能 讓 人 倍感 孤獨 ， 但是 疫情 期間 的 隔離 是否 讓 我們 ...      0  \n5   製 藥 巨 頭 阿斯利康 （ AstraZeneca ） 總裁 蘇博科 （ PascalSo...      1  \n6   和 許多 英國人 一樣 ， 從事個 體經營 的 人生 教練 貝克 （ LucyBaker ）...      0  \n7   為 什麼 日本 不 下令 封鎖 ？ 世界各地 朋友 問過 我 很 多次 這個 問題 。 考慮...      2  \n8   俄羅斯 總理 米哈伊 爾 · 米 舒斯金 （ MikhailMishustin ） 被 確診...      1  \n9   新型 冠狀 病毒 疫情 席 捲 全球 造成 許多人 不幸病故 ， 最 讓 死者 家屬 難過 ...      1  \n10  英國百歲 老人 湯姆 · 摩爾為 國民醫療 系統 募捐 3000 多萬英 鎊 ， 成為 英國...      0  \n11  美國 總統 特朗普 （ DonaldTrump ） 在 周四 白宮 記者 會 上 表示 ， ...      0  \n12  美國情 報機 關公開 聲明 新冠 病毒 並非 人造 或 經過 基因 改造 而成 病毒 。 這...      0  \n13  今年 一季度 ， 美國 經濟 遭遇 了 十多年 來 最 嚴重 萎縮 ， 背 後 原因 是 美...      1  \n14  眼下 ， 美國 疫情 依然 嚴峻 ， 新冠 感染 確診 突破 百萬 ， 死亡 沒有 持續 下...      0  \n15  隨著 更 多國家 正在 計劃 逐步 解除 新型 冠狀 病毒 的 封鎖 措施 ， 航空公司 也...      0  \n16  新冠 疫情 困擾 著 每 一個 人 。 有關 新冠 病毒 的 許多 事情 我們 仍然 不 清...      1  \n17  從 年初 疫情 在 中國 武漢爆 發到 4 月底 ， 新冠 病毒 已經 擴散 到 全世界 1...      2  \n18  美國 中央 銀行 的 決策 層 凖 備 於 本周 召開 網上 會議 ， 將 研究 他們 目前...      1  \n19  波士 頓大學 工程 學院 副教授 、 華裔 美國人 王華 在 2 月底 新冠 病毒 開始 在...      1  ",
      "text/html": "<div>\n<style scoped>\n    .dataframe tbody tr th:only-of-type {\n        vertical-align: middle;\n    }\n\n    .dataframe tbody tr th {\n        vertical-align: top;\n    }\n\n    .dataframe thead th {\n        text-align: right;\n    }\n</style>\n<table border=\"1\" class=\"dataframe\">\n  <thead>\n    <tr style=\"text-align: right;\">\n      <th></th>\n      <th>title</th>\n      <th>time</th>\n      <th>content</th>\n      <th>url</th>\n      <th>jieba</th>\n      <th>topic</th>\n    </tr>\n  </thead>\n  <tbody>\n    <tr>\n      <th>0</th>\n      <td>肺炎疫情：全球主要疫情國陸續開始不同程度解封</td>\n      <td>2020年 5月 2日</td>\n      <td>馬德里、巴塞羅那，還有西班牙其他城市，周六（5月2日）早晨舒醒後，發現街頭巷尾、海濱大道上再...</td>\n      <td>https://www.bbc.co.uk/zhongwen/trad/world-5244...</td>\n      <td>馬 德里 、 巴塞 羅 那 ， 還有 西班牙 其他 城市 ， 周六 （ 5 月 2 日 ） ...</td>\n      <td>0</td>\n    </tr>\n    <tr>\n      <th>1</th>\n      <td>肺炎疫情：世衛組織回應譴責，稱處理疫情「未浪費時間」</td>\n      <td>2020年 5月 2日</td>\n      <td>世界衛生組織對其應對疫情不利的批評做出回應，稱該組織在病毒爆發初期「沒有浪費時間」。世衛組織...</td>\n      <td>https://www.bbc.co.uk/zhongwen/trad/world-5251...</td>\n      <td>世界 衛生 組織 對 其應 對 疫情 不利 的 批評 做出 回應 ， 稱該 組織 在 病毒 ...</td>\n      <td>0</td>\n    </tr>\n    <tr>\n      <th>2</th>\n      <td>肺炎疫情：中國遊客滯留巴基斯坦 求助使館無果</td>\n      <td>2020年 5月 2日</td>\n      <td>儘管中國新型冠狀病毒疫情已經大幅好轉，但疾病仍在全球蔓延。在中國鄰國巴基斯坦，一些中國遊客稱...</td>\n      <td>https://www.bbc.co.uk/zhongwen/trad/chinese-ne...</td>\n      <td>儘 管 中 國 新型 冠狀 病毒 疫情 已經 大幅 好轉 ， 但 疾病 仍 在 全球 蔓延 ...</td>\n      <td>2</td>\n    </tr>\n    <tr>\n      <th>3</th>\n      <td>肺炎疫情：美國洛杉磯市向全體居民提供免費新冠病毒檢測</td>\n      <td>2020年 5月 2日</td>\n      <td>美國洛杉磯市向全體居民提供免費的新型冠狀病毒檢測，無論他們是否有症狀。在洛杉磯縣報告2019...</td>\n      <td>https://www.bbc.co.uk/zhongwen/trad/world-5250...</td>\n      <td>美國洛杉磯 市 向 全體 居民 提供 免費 的 新型 冠狀 病毒 檢測 ， 無論 他們 是否...</td>\n      <td>1</td>\n    </tr>\n    <tr>\n      <th>4</th>\n      <td>肺炎疫情中的反思 從隔離孤獨感聯想氣候變化</td>\n      <td>2020年 5月 1日</td>\n      <td>世界迅速變化可能讓人倍感孤獨，但是疫情期間的隔離是否讓我們找到線索去解決氣候變化這個日積月累...</td>\n      <td>https://www.bbc.co.uk/zhongwen/trad/world-5250...</td>\n      <td>世界 迅速 變化 可能 讓 人 倍感 孤獨 ， 但是 疫情 期間 的 隔離 是否 讓 我們 ...</td>\n      <td>0</td>\n    </tr>\n    <tr>\n      <th>5</th>\n      <td>肺炎疫情：牛津大學疫苗「或年底前供有限使用」</td>\n      <td>2020年 5月 1日</td>\n      <td>製藥巨頭阿斯利康（AstraZeneca）總裁蘇博科（PascalSoriot）日前表示，一...</td>\n      <td>https://www.bbc.co.uk/zhongwen/trad/science-52...</td>\n      <td>製 藥 巨 頭 阿斯利康 （ AstraZeneca ） 總裁 蘇博科 （ PascalSo...</td>\n      <td>1</td>\n    </tr>\n    <tr>\n      <th>6</th>\n      <td>肺炎疫情下自僱族的苦衷：「我因休產假而受到懲罰」</td>\n      <td>2020年 5月 1日</td>\n      <td>和許多英國人一樣，從事個體經營的人生教練貝克（LucyBaker）發現，當冠狀病毒來襲後，她...</td>\n      <td>https://www.bbc.co.uk/zhongwen/trad/world-5249...</td>\n      <td>和 許多 英國人 一樣 ， 從事個 體經營 的 人生 教練 貝克 （ LucyBaker ）...</td>\n      <td>0</td>\n    </tr>\n    <tr>\n      <th>7</th>\n      <td>肺炎疫情：日本低檢測率引發的質疑和擔憂</td>\n      <td>2020年 5月 1日</td>\n      <td>為什麼日本不下令封鎖？世界各地朋友問過我很多次這個問題。考慮到歐洲和美國的情況，封鎖措施不足...</td>\n      <td>https://www.bbc.co.uk/zhongwen/trad/world-5248...</td>\n      <td>為 什麼 日本 不 下令 封鎖 ？ 世界各地 朋友 問過 我 很 多次 這個 問題 。 考慮...</td>\n      <td>2</td>\n    </tr>\n    <tr>\n      <th>8</th>\n      <td>肺炎疫情：俄羅斯總理米舒斯金確診感染新型冠狀病毒</td>\n      <td>2020年 5月 1日</td>\n      <td>俄羅斯總理米哈伊爾·米舒斯金（MikhailMishustin）被確診感染新型冠狀病毒，已經...</td>\n      <td>https://www.bbc.co.uk/zhongwen/trad/world-5249...</td>\n      <td>俄羅斯 總理 米哈伊 爾 · 米 舒斯金 （ MikhailMishustin ） 被 確診...</td>\n      <td>1</td>\n    </tr>\n    <tr>\n      <th>9</th>\n      <td>肺炎疫情：新冠病毒死者遺體會不會傳播疾病</td>\n      <td>2020年 4月 30日</td>\n      <td>新型冠狀病毒疫情席捲全球造成許多人不幸病故，最讓死者家屬難過的是許多人沒辦法見到親人的最後一...</td>\n      <td>https://www.bbc.co.uk/zhongwen/trad/science-52...</td>\n      <td>新型 冠狀 病毒 疫情 席 捲 全球 造成 許多人 不幸病故 ， 最 讓 死者 家屬 難過 ...</td>\n      <td>1</td>\n    </tr>\n    <tr>\n      <th>10</th>\n      <td>肺炎疫情正能量 盤點五大溫暖人心的抗疫故事</td>\n      <td>2020年 4月 30日</td>\n      <td>英國百歲老人湯姆·摩爾為國民醫療系統募捐3000多萬英鎊，成為英國抗擊新冠病毒大流行的一個傳...</td>\n      <td>https://www.bbc.co.uk/zhongwen/trad/world-5249...</td>\n      <td>英國百歲 老人 湯姆 · 摩爾為 國民醫療 系統 募捐 3000 多萬英 鎊 ， 成為 英國...</td>\n      <td>0</td>\n    </tr>\n    <tr>\n      <th>11</th>\n      <td>肺炎疫情：特朗普稱看到病毒源於中國實驗室的證據 與情報總監說法相左</td>\n      <td>2020年 5月 1日</td>\n      <td>美國總統特朗普（DonaldTrump）在周四白宮記者會上表示，他看到過新冠病毒起源於中國實...</td>\n      <td>https://www.bbc.co.uk/zhongwen/trad/world-5249...</td>\n      <td>美國 總統 特朗普 （ DonaldTrump ） 在 周四 白宮 記者 會 上 表示 ， ...</td>\n      <td>0</td>\n    </tr>\n    <tr>\n      <th>12</th>\n      <td>肺炎疫情：美情報部門首次承認新冠病毒並非人造或基因改造</td>\n      <td>2020年 4月 30日</td>\n      <td>美國情報機關公開聲明新冠病毒並非人造或經過基因改造而成病毒。這是華盛頓首次就病毒起源明確表態...</td>\n      <td>https://www.bbc.co.uk/zhongwen/trad/world-5249...</td>\n      <td>美國情 報機 關公開 聲明 新冠 病毒 並非 人造 或 經過 基因 改造 而成 病毒 。 這...</td>\n      <td>0</td>\n    </tr>\n    <tr>\n      <th>13</th>\n      <td>肺炎疫情：美國經濟一季度萎縮4.8%，為2008年以來之最</td>\n      <td>2020年 4月 30日</td>\n      <td>今年一季度，美國經濟遭遇了十多年來最嚴重萎縮，背後原因是美國為減緩新冠病毒傳播而實施封鎖措施...</td>\n      <td>https://www.bbc.co.uk/zhongwen/trad/business-5...</td>\n      <td>今年 一季度 ， 美國 經濟 遭遇 了 十多年 來 最 嚴重 萎縮 ， 背 後 原因 是 美...</td>\n      <td>1</td>\n    </tr>\n    <tr>\n      <th>14</th>\n      <td>肺炎疫情：美國反封鎖抗議潮台前與幕後</td>\n      <td>2020年 4月 29日</td>\n      <td>眼下，美國疫情依然嚴峻，新冠感染確診突破百萬，死亡沒有持續下降。但是過去兩個星期，美國多地不...</td>\n      <td>https://www.bbc.co.uk/zhongwen/trad/world-5247...</td>\n      <td>眼下 ， 美國 疫情 依然 嚴峻 ， 新冠 感染 確診 突破 百萬 ， 死亡 沒有 持續 下...</td>\n      <td>0</td>\n    </tr>\n    <tr>\n      <th>15</th>\n      <td>肺炎疫情：在飛機上如何維持安全間隔距離</td>\n      <td>2020年 4月 29日</td>\n      <td>隨著更多國家正在計劃逐步解除新型冠狀病毒的封鎖措施，航空公司也在思考旅行禁令鬆綁後要如何恢復...</td>\n      <td>https://www.bbc.co.uk/zhongwen/trad/world-5246...</td>\n      <td>隨著 更 多國家 正在 計劃 逐步 解除 新型 冠狀 病毒 的 封鎖 措施 ， 航空公司 也...</td>\n      <td>0</td>\n    </tr>\n    <tr>\n      <th>16</th>\n      <td>肺炎疫情：康復後就有免疫力防止第二次感染？</td>\n      <td>2020年 4月 29日</td>\n      <td>新冠疫情困擾著每一個人。有關新冠病毒的許多事情我們仍然不清楚。例如，為什麼有人病情非常嚴重，...</td>\n      <td>https://www.bbc.co.uk/zhongwen/trad/world-5246...</td>\n      <td>新冠 疫情 困擾 著 每 一個 人 。 有關 新冠 病毒 的 許多 事情 我們 仍然 不 清...</td>\n      <td>1</td>\n    </tr>\n    <tr>\n      <th>17</th>\n      <td>肺炎疫情：韓國本土新增歸零 亞洲抗擊新冠成效顯著的五個秘訣</td>\n      <td>2020年 4月 30日</td>\n      <td>從年初疫情在中國武漢爆發到4月底，新冠病毒已經擴散到全世界185個國家，感染人數超過300萬...</td>\n      <td>https://www.bbc.co.uk/zhongwen/trad/world-5245...</td>\n      <td>從 年初 疫情 在 中國 武漢爆 發到 4 月底 ， 新冠 病毒 已經 擴散 到 全世界 1...</td>\n      <td>2</td>\n    </tr>\n    <tr>\n      <th>18</th>\n      <td>肺炎疫情：為挽救經濟，美聯儲想出這四大招</td>\n      <td>2020年 4月 29日</td>\n      <td>美國中央銀行的決策層凖備於本周召開網上會議，將研究他們目前為應對自「大蕭條」（theGrea...</td>\n      <td>https://www.bbc.co.uk/zhongwen/trad/business-5...</td>\n      <td>美國 中央 銀行 的 決策 層 凖 備 於 本周 召開 網上 會議 ， 將 研究 他們 目前...</td>\n      <td>1</td>\n    </tr>\n    <tr>\n      <th>19</th>\n      <td>肺炎疫情下華裔美國人的困境與機遇</td>\n      <td>2020年 4月 29日</td>\n      <td>波士頓大學工程學院副教授、華裔美國人王華在2月底新冠病毒開始在美國蔓延時，帶領馬薩諸塞州（麻...</td>\n      <td>https://www.bbc.co.uk/zhongwen/trad/world-5239...</td>\n      <td>波士 頓大學 工程 學院 副教授 、 華裔 美國人 王華 在 2 月底 新冠 病毒 開始 在...</td>\n      <td>1</td>\n    </tr>\n  </tbody>\n</table>\n</div>"
     },
     "metadata": {},
     "execution_count": 8
    }
   ],
   "source": [
    "df_lda = lda.dataframe\n",
    "df_lda"
   ]
  },
  {
   "cell_type": "code",
   "execution_count": 9,
   "metadata": {},
   "outputs": [
    {
     "output_type": "execute_result",
     "data": {
      "text/plain": "{'topic1': ['病毒', '中國', '疫情', '美國', '我們', '特朗普', '表示', '新冠', '可能', '座位'],\n 'topic2': ['病毒', '美國', '新冠', '表示', '感染', '疫情', '經濟', '免疫', '我們', '美聯儲'],\n 'topic3': ['病毒', '檢測', '中國', '疫情', '巴基斯坦', '病例', '他們', '日本', '香港', '感染']}"
     },
     "metadata": {},
     "execution_count": 9
    }
   ],
   "source": [
    "lda.n_topics_dict()"
   ]
  },
  {
   "cell_type": "code",
   "execution_count": 10,
   "metadata": {},
   "outputs": [
    {
     "output_type": "execute_result",
     "data": {
      "text/plain": "                                title          time  \\\n0              肺炎疫情：全球主要疫情國陸續開始不同程度解封   2020年 5月 2日   \n1          肺炎疫情：世衛組織回應譴責，稱處理疫情「未浪費時間」   2020年 5月 2日   \n2              肺炎疫情：中國遊客滯留巴基斯坦 求助使館無果   2020年 5月 2日   \n3          肺炎疫情：美國洛杉磯市向全體居民提供免費新冠病毒檢測   2020年 5月 2日   \n4               肺炎疫情中的反思 從隔離孤獨感聯想氣候變化   2020年 5月 1日   \n5              肺炎疫情：牛津大學疫苗「或年底前供有限使用」   2020年 5月 1日   \n6            肺炎疫情下自僱族的苦衷：「我因休產假而受到懲罰」   2020年 5月 1日   \n7                 肺炎疫情：日本低檢測率引發的質疑和擔憂   2020年 5月 1日   \n8            肺炎疫情：俄羅斯總理米舒斯金確診感染新型冠狀病毒   2020年 5月 1日   \n9                肺炎疫情：新冠病毒死者遺體會不會傳播疾病  2020年 4月 30日   \n10              肺炎疫情正能量 盤點五大溫暖人心的抗疫故事  2020年 4月 30日   \n11  肺炎疫情：特朗普稱看到病毒源於中國實驗室的證據 與情報總監說法相左   2020年 5月 1日   \n12        肺炎疫情：美情報部門首次承認新冠病毒並非人造或基因改造  2020年 4月 30日   \n13      肺炎疫情：美國經濟一季度萎縮4.8%，為2008年以來之最  2020年 4月 30日   \n14                 肺炎疫情：美國反封鎖抗議潮台前與幕後  2020年 4月 29日   \n15                肺炎疫情：在飛機上如何維持安全間隔距離  2020年 4月 29日   \n16              肺炎疫情：康復後就有免疫力防止第二次感染？  2020年 4月 29日   \n17      肺炎疫情：韓國本土新增歸零 亞洲抗擊新冠成效顯著的五個秘訣  2020年 4月 30日   \n18               肺炎疫情：為挽救經濟，美聯儲想出這四大招  2020年 4月 29日   \n19                   肺炎疫情下華裔美國人的困境與機遇  2020年 4月 29日   \n\n                                              content  \\\n0   馬德里、巴塞羅那，還有西班牙其他城市，周六（5月2日）早晨舒醒後，發現街頭巷尾、海濱大道上再...   \n1   世界衛生組織對其應對疫情不利的批評做出回應，稱該組織在病毒爆發初期「沒有浪費時間」。世衛組織...   \n2   儘管中國新型冠狀病毒疫情已經大幅好轉，但疾病仍在全球蔓延。在中國鄰國巴基斯坦，一些中國遊客稱...   \n3   美國洛杉磯市向全體居民提供免費的新型冠狀病毒檢測，無論他們是否有症狀。在洛杉磯縣報告2019...   \n4   世界迅速變化可能讓人倍感孤獨，但是疫情期間的隔離是否讓我們找到線索去解決氣候變化這個日積月累...   \n5   製藥巨頭阿斯利康（AstraZeneca）總裁蘇博科（PascalSoriot）日前表示，一...   \n6   和許多英國人一樣，從事個體經營的人生教練貝克（LucyBaker）發現，當冠狀病毒來襲後，她...   \n7   為什麼日本不下令封鎖？世界各地朋友問過我很多次這個問題。考慮到歐洲和美國的情況，封鎖措施不足...   \n8   俄羅斯總理米哈伊爾·米舒斯金（MikhailMishustin）被確診感染新型冠狀病毒，已經...   \n9   新型冠狀病毒疫情席捲全球造成許多人不幸病故，最讓死者家屬難過的是許多人沒辦法見到親人的最後一...   \n10  英國百歲老人湯姆·摩爾為國民醫療系統募捐3000多萬英鎊，成為英國抗擊新冠病毒大流行的一個傳...   \n11  美國總統特朗普（DonaldTrump）在周四白宮記者會上表示，他看到過新冠病毒起源於中國實...   \n12  美國情報機關公開聲明新冠病毒並非人造或經過基因改造而成病毒。這是華盛頓首次就病毒起源明確表態...   \n13  今年一季度，美國經濟遭遇了十多年來最嚴重萎縮，背後原因是美國為減緩新冠病毒傳播而實施封鎖措施...   \n14  眼下，美國疫情依然嚴峻，新冠感染確診突破百萬，死亡沒有持續下降。但是過去兩個星期，美國多地不...   \n15  隨著更多國家正在計劃逐步解除新型冠狀病毒的封鎖措施，航空公司也在思考旅行禁令鬆綁後要如何恢復...   \n16  新冠疫情困擾著每一個人。有關新冠病毒的許多事情我們仍然不清楚。例如，為什麼有人病情非常嚴重，...   \n17  從年初疫情在中國武漢爆發到4月底，新冠病毒已經擴散到全世界185個國家，感染人數超過300萬...   \n18  美國中央銀行的決策層凖備於本周召開網上會議，將研究他們目前為應對自「大蕭條」（theGrea...   \n19  波士頓大學工程學院副教授、華裔美國人王華在2月底新冠病毒開始在美國蔓延時，帶領馬薩諸塞州（麻...   \n\n                                                  url  \\\n0   https://www.bbc.co.uk/zhongwen/trad/world-5244...   \n1   https://www.bbc.co.uk/zhongwen/trad/world-5251...   \n2   https://www.bbc.co.uk/zhongwen/trad/chinese-ne...   \n3   https://www.bbc.co.uk/zhongwen/trad/world-5250...   \n4   https://www.bbc.co.uk/zhongwen/trad/world-5250...   \n5   https://www.bbc.co.uk/zhongwen/trad/science-52...   \n6   https://www.bbc.co.uk/zhongwen/trad/world-5249...   \n7   https://www.bbc.co.uk/zhongwen/trad/world-5248...   \n8   https://www.bbc.co.uk/zhongwen/trad/world-5249...   \n9   https://www.bbc.co.uk/zhongwen/trad/science-52...   \n10  https://www.bbc.co.uk/zhongwen/trad/world-5249...   \n11  https://www.bbc.co.uk/zhongwen/trad/world-5249...   \n12  https://www.bbc.co.uk/zhongwen/trad/world-5249...   \n13  https://www.bbc.co.uk/zhongwen/trad/business-5...   \n14  https://www.bbc.co.uk/zhongwen/trad/world-5247...   \n15  https://www.bbc.co.uk/zhongwen/trad/world-5246...   \n16  https://www.bbc.co.uk/zhongwen/trad/world-5246...   \n17  https://www.bbc.co.uk/zhongwen/trad/world-5245...   \n18  https://www.bbc.co.uk/zhongwen/trad/business-5...   \n19  https://www.bbc.co.uk/zhongwen/trad/world-5239...   \n\n                                                jieba  topic  \\\n0   馬 德里 、 巴塞 羅 那 ， 還有 西班牙 其他 城市 ， 周六 （ 5 月 2 日 ） ...      0   \n1   世界 衛生 組織 對 其應 對 疫情 不利 的 批評 做出 回應 ， 稱該 組織 在 病毒 ...      0   \n2   儘 管 中 國 新型 冠狀 病毒 疫情 已經 大幅 好轉 ， 但 疾病 仍 在 全球 蔓延 ...      2   \n3   美國洛杉磯 市 向 全體 居民 提供 免費 的 新型 冠狀 病毒 檢測 ， 無論 他們 是否...      1   \n4   世界 迅速 變化 可能 讓 人 倍感 孤獨 ， 但是 疫情 期間 的 隔離 是否 讓 我們 ...      0   \n5   製 藥 巨 頭 阿斯利康 （ AstraZeneca ） 總裁 蘇博科 （ PascalSo...      1   \n6   和 許多 英國人 一樣 ， 從事個 體經營 的 人生 教練 貝克 （ LucyBaker ）...      0   \n7   為 什麼 日本 不 下令 封鎖 ？ 世界各地 朋友 問過 我 很 多次 這個 問題 。 考慮...      2   \n8   俄羅斯 總理 米哈伊 爾 · 米 舒斯金 （ MikhailMishustin ） 被 確診...      1   \n9   新型 冠狀 病毒 疫情 席 捲 全球 造成 許多人 不幸病故 ， 最 讓 死者 家屬 難過 ...      1   \n10  英國百歲 老人 湯姆 · 摩爾為 國民醫療 系統 募捐 3000 多萬英 鎊 ， 成為 英國...      0   \n11  美國 總統 特朗普 （ DonaldTrump ） 在 周四 白宮 記者 會 上 表示 ， ...      0   \n12  美國情 報機 關公開 聲明 新冠 病毒 並非 人造 或 經過 基因 改造 而成 病毒 。 這...      0   \n13  今年 一季度 ， 美國 經濟 遭遇 了 十多年 來 最 嚴重 萎縮 ， 背 後 原因 是 美...      1   \n14  眼下 ， 美國 疫情 依然 嚴峻 ， 新冠 感染 確診 突破 百萬 ， 死亡 沒有 持續 下...      0   \n15  隨著 更 多國家 正在 計劃 逐步 解除 新型 冠狀 病毒 的 封鎖 措施 ， 航空公司 也...      0   \n16  新冠 疫情 困擾 著 每 一個 人 。 有關 新冠 病毒 的 許多 事情 我們 仍然 不 清...      1   \n17  從 年初 疫情 在 中國 武漢爆 發到 4 月底 ， 新冠 病毒 已經 擴散 到 全世界 1...      2   \n18  美國 中央 銀行 的 決策 層 凖 備 於 本周 召開 網上 會議 ， 將 研究 他們 目前...      1   \n19  波士 頓大學 工程 學院 副教授 、 華裔 美國人 王華 在 2 月底 新冠 病毒 開始 在...      1   \n\n                                             summary1  \n0   雖然全球新冠疫情高峰尚未結束，但一些主要疫情國政府開始不同程度地放寬隔離措施，主要是解除對本...  \n1   他堅稱，世衛組織在宣佈病毒構成國際關注的突發公共衛生事件之前，有效利用了那段時間，包括訪問中...  \n2   在中國鄰國巴基斯坦，一些中國遊客稱，因巴基斯坦暫停國際航班被迫滯留超過一個月，求助中國大使館...  \n3   新冠病毒更多報道：BBC記者索菲·朗（SophieLong）發自洛杉磯洛杉磯市長埃里克·加塞...  \n4   世界迅速變化可能讓人倍感孤獨，但是疫情期間的隔離是否讓我們找到線索去解決氣候變化這個日積月累...  \n5   為此阿斯利康正在與牛津大學詹納研究所（JennerInstitute）疫苗研發團隊合作，相關...  \n6   根據英國自僱人士收入支持計劃（Self-employmentIncomeSupportSch...  \n7   對於那些試圖了解日本現狀的人，更令人困惑的問題是，為什麼新冠病毒的檢測數量如此少。「目前東京...  \n8   俄羅斯總理米哈伊爾·米舒斯金（MikhailMishustin）被確診感染新型冠狀病毒，已經...  \n9   這是因為人們擔心死者遺體內仍然有病毒存活，接觸者可能會從屍體上感染新冠病毒。新型冠狀病毒疾病...  \n10  英國百歲老人湯姆·摩爾為國民醫療系統募捐3000多萬英鎊，成為英國抗擊新冠病毒大流行的一個傳...  \n11  美國總統特朗普（DonaldTrump）在周四白宮記者會上表示，他看到過新冠病毒起源於中國實...  \n12  該聲明指，美國情報機關還在追查疫病的起源是否因人類接觸受感染的動物，或是從武漢病毒實驗室意外...  \n13  今年一季度，美國經濟遭遇了十多年來最嚴重萎縮，背後原因是美國為減緩新冠病毒傳播而實施封鎖措施...  \n14  眼下，美國疫情依然嚴峻，新冠感染確診突破百萬，死亡沒有持續下降。綜觀反應，大惑不解之餘，也真...  \n15  已經有一些航空公司開始研究在飛機上實施安全社交距離的辦法，例如把中間座位空下來，這樣乘客之間...  \n16  但先天免疫反應還沒有學會識別新冠病毒，因此無法給你免疫，讓你免於感染。通過實驗讓獼猴兩次感染...  \n17  根據台灣中央流行疫情指揮中心數字，截至4月27日，台灣累計確診病例429例，連續15天無本土...  \n18  「他們基本上是採取了在全球金融危機時所使用過的措施，現在則上了類固醇，」哥倫比亞商學院的銀行...  \n19  波士頓大學工程學院副教授、華裔美國人王華在2月底新冠病毒開始在美國蔓延時，帶領馬薩諸塞州（麻...  ",
      "text/html": "<div>\n<style scoped>\n    .dataframe tbody tr th:only-of-type {\n        vertical-align: middle;\n    }\n\n    .dataframe tbody tr th {\n        vertical-align: top;\n    }\n\n    .dataframe thead th {\n        text-align: right;\n    }\n</style>\n<table border=\"1\" class=\"dataframe\">\n  <thead>\n    <tr style=\"text-align: right;\">\n      <th></th>\n      <th>title</th>\n      <th>time</th>\n      <th>content</th>\n      <th>url</th>\n      <th>jieba</th>\n      <th>topic</th>\n      <th>summary1</th>\n    </tr>\n  </thead>\n  <tbody>\n    <tr>\n      <th>0</th>\n      <td>肺炎疫情：全球主要疫情國陸續開始不同程度解封</td>\n      <td>2020年 5月 2日</td>\n      <td>馬德里、巴塞羅那，還有西班牙其他城市，周六（5月2日）早晨舒醒後，發現街頭巷尾、海濱大道上再...</td>\n      <td>https://www.bbc.co.uk/zhongwen/trad/world-5244...</td>\n      <td>馬 德里 、 巴塞 羅 那 ， 還有 西班牙 其他 城市 ， 周六 （ 5 月 2 日 ） ...</td>\n      <td>0</td>\n      <td>雖然全球新冠疫情高峰尚未結束，但一些主要疫情國政府開始不同程度地放寬隔離措施，主要是解除對本...</td>\n    </tr>\n    <tr>\n      <th>1</th>\n      <td>肺炎疫情：世衛組織回應譴責，稱處理疫情「未浪費時間」</td>\n      <td>2020年 5月 2日</td>\n      <td>世界衛生組織對其應對疫情不利的批評做出回應，稱該組織在病毒爆發初期「沒有浪費時間」。世衛組織...</td>\n      <td>https://www.bbc.co.uk/zhongwen/trad/world-5251...</td>\n      <td>世界 衛生 組織 對 其應 對 疫情 不利 的 批評 做出 回應 ， 稱該 組織 在 病毒 ...</td>\n      <td>0</td>\n      <td>他堅稱，世衛組織在宣佈病毒構成國際關注的突發公共衛生事件之前，有效利用了那段時間，包括訪問中...</td>\n    </tr>\n    <tr>\n      <th>2</th>\n      <td>肺炎疫情：中國遊客滯留巴基斯坦 求助使館無果</td>\n      <td>2020年 5月 2日</td>\n      <td>儘管中國新型冠狀病毒疫情已經大幅好轉，但疾病仍在全球蔓延。在中國鄰國巴基斯坦，一些中國遊客稱...</td>\n      <td>https://www.bbc.co.uk/zhongwen/trad/chinese-ne...</td>\n      <td>儘 管 中 國 新型 冠狀 病毒 疫情 已經 大幅 好轉 ， 但 疾病 仍 在 全球 蔓延 ...</td>\n      <td>2</td>\n      <td>在中國鄰國巴基斯坦，一些中國遊客稱，因巴基斯坦暫停國際航班被迫滯留超過一個月，求助中國大使館...</td>\n    </tr>\n    <tr>\n      <th>3</th>\n      <td>肺炎疫情：美國洛杉磯市向全體居民提供免費新冠病毒檢測</td>\n      <td>2020年 5月 2日</td>\n      <td>美國洛杉磯市向全體居民提供免費的新型冠狀病毒檢測，無論他們是否有症狀。在洛杉磯縣報告2019...</td>\n      <td>https://www.bbc.co.uk/zhongwen/trad/world-5250...</td>\n      <td>美國洛杉磯 市 向 全體 居民 提供 免費 的 新型 冠狀 病毒 檢測 ， 無論 他們 是否...</td>\n      <td>1</td>\n      <td>新冠病毒更多報道：BBC記者索菲·朗（SophieLong）發自洛杉磯洛杉磯市長埃里克·加塞...</td>\n    </tr>\n    <tr>\n      <th>4</th>\n      <td>肺炎疫情中的反思 從隔離孤獨感聯想氣候變化</td>\n      <td>2020年 5月 1日</td>\n      <td>世界迅速變化可能讓人倍感孤獨，但是疫情期間的隔離是否讓我們找到線索去解決氣候變化這個日積月累...</td>\n      <td>https://www.bbc.co.uk/zhongwen/trad/world-5250...</td>\n      <td>世界 迅速 變化 可能 讓 人 倍感 孤獨 ， 但是 疫情 期間 的 隔離 是否 讓 我們 ...</td>\n      <td>0</td>\n      <td>世界迅速變化可能讓人倍感孤獨，但是疫情期間的隔離是否讓我們找到線索去解決氣候變化這個日積月累...</td>\n    </tr>\n    <tr>\n      <th>5</th>\n      <td>肺炎疫情：牛津大學疫苗「或年底前供有限使用」</td>\n      <td>2020年 5月 1日</td>\n      <td>製藥巨頭阿斯利康（AstraZeneca）總裁蘇博科（PascalSoriot）日前表示，一...</td>\n      <td>https://www.bbc.co.uk/zhongwen/trad/science-52...</td>\n      <td>製 藥 巨 頭 阿斯利康 （ AstraZeneca ） 總裁 蘇博科 （ PascalSo...</td>\n      <td>1</td>\n      <td>為此阿斯利康正在與牛津大學詹納研究所（JennerInstitute）疫苗研發團隊合作，相關...</td>\n    </tr>\n    <tr>\n      <th>6</th>\n      <td>肺炎疫情下自僱族的苦衷：「我因休產假而受到懲罰」</td>\n      <td>2020年 5月 1日</td>\n      <td>和許多英國人一樣，從事個體經營的人生教練貝克（LucyBaker）發現，當冠狀病毒來襲後，她...</td>\n      <td>https://www.bbc.co.uk/zhongwen/trad/world-5249...</td>\n      <td>和 許多 英國人 一樣 ， 從事個 體經營 的 人生 教練 貝克 （ LucyBaker ）...</td>\n      <td>0</td>\n      <td>根據英國自僱人士收入支持計劃（Self-employmentIncomeSupportSch...</td>\n    </tr>\n    <tr>\n      <th>7</th>\n      <td>肺炎疫情：日本低檢測率引發的質疑和擔憂</td>\n      <td>2020年 5月 1日</td>\n      <td>為什麼日本不下令封鎖？世界各地朋友問過我很多次這個問題。考慮到歐洲和美國的情況，封鎖措施不足...</td>\n      <td>https://www.bbc.co.uk/zhongwen/trad/world-5248...</td>\n      <td>為 什麼 日本 不 下令 封鎖 ？ 世界各地 朋友 問過 我 很 多次 這個 問題 。 考慮...</td>\n      <td>2</td>\n      <td>對於那些試圖了解日本現狀的人，更令人困惑的問題是，為什麼新冠病毒的檢測數量如此少。「目前東京...</td>\n    </tr>\n    <tr>\n      <th>8</th>\n      <td>肺炎疫情：俄羅斯總理米舒斯金確診感染新型冠狀病毒</td>\n      <td>2020年 5月 1日</td>\n      <td>俄羅斯總理米哈伊爾·米舒斯金（MikhailMishustin）被確診感染新型冠狀病毒，已經...</td>\n      <td>https://www.bbc.co.uk/zhongwen/trad/world-5249...</td>\n      <td>俄羅斯 總理 米哈伊 爾 · 米 舒斯金 （ MikhailMishustin ） 被 確診...</td>\n      <td>1</td>\n      <td>俄羅斯總理米哈伊爾·米舒斯金（MikhailMishustin）被確診感染新型冠狀病毒，已經...</td>\n    </tr>\n    <tr>\n      <th>9</th>\n      <td>肺炎疫情：新冠病毒死者遺體會不會傳播疾病</td>\n      <td>2020年 4月 30日</td>\n      <td>新型冠狀病毒疫情席捲全球造成許多人不幸病故，最讓死者家屬難過的是許多人沒辦法見到親人的最後一...</td>\n      <td>https://www.bbc.co.uk/zhongwen/trad/science-52...</td>\n      <td>新型 冠狀 病毒 疫情 席 捲 全球 造成 許多人 不幸病故 ， 最 讓 死者 家屬 難過 ...</td>\n      <td>1</td>\n      <td>這是因為人們擔心死者遺體內仍然有病毒存活，接觸者可能會從屍體上感染新冠病毒。新型冠狀病毒疾病...</td>\n    </tr>\n    <tr>\n      <th>10</th>\n      <td>肺炎疫情正能量 盤點五大溫暖人心的抗疫故事</td>\n      <td>2020年 4月 30日</td>\n      <td>英國百歲老人湯姆·摩爾為國民醫療系統募捐3000多萬英鎊，成為英國抗擊新冠病毒大流行的一個傳...</td>\n      <td>https://www.bbc.co.uk/zhongwen/trad/world-5249...</td>\n      <td>英國百歲 老人 湯姆 · 摩爾為 國民醫療 系統 募捐 3000 多萬英 鎊 ， 成為 英國...</td>\n      <td>0</td>\n      <td>英國百歲老人湯姆·摩爾為國民醫療系統募捐3000多萬英鎊，成為英國抗擊新冠病毒大流行的一個傳...</td>\n    </tr>\n    <tr>\n      <th>11</th>\n      <td>肺炎疫情：特朗普稱看到病毒源於中國實驗室的證據 與情報總監說法相左</td>\n      <td>2020年 5月 1日</td>\n      <td>美國總統特朗普（DonaldTrump）在周四白宮記者會上表示，他看到過新冠病毒起源於中國實...</td>\n      <td>https://www.bbc.co.uk/zhongwen/trad/world-5249...</td>\n      <td>美國 總統 特朗普 （ DonaldTrump ） 在 周四 白宮 記者 會 上 表示 ， ...</td>\n      <td>0</td>\n      <td>美國總統特朗普（DonaldTrump）在周四白宮記者會上表示，他看到過新冠病毒起源於中國實...</td>\n    </tr>\n    <tr>\n      <th>12</th>\n      <td>肺炎疫情：美情報部門首次承認新冠病毒並非人造或基因改造</td>\n      <td>2020年 4月 30日</td>\n      <td>美國情報機關公開聲明新冠病毒並非人造或經過基因改造而成病毒。這是華盛頓首次就病毒起源明確表態...</td>\n      <td>https://www.bbc.co.uk/zhongwen/trad/world-5249...</td>\n      <td>美國情 報機 關公開 聲明 新冠 病毒 並非 人造 或 經過 基因 改造 而成 病毒 。 這...</td>\n      <td>0</td>\n      <td>該聲明指，美國情報機關還在追查疫病的起源是否因人類接觸受感染的動物，或是從武漢病毒實驗室意外...</td>\n    </tr>\n    <tr>\n      <th>13</th>\n      <td>肺炎疫情：美國經濟一季度萎縮4.8%，為2008年以來之最</td>\n      <td>2020年 4月 30日</td>\n      <td>今年一季度，美國經濟遭遇了十多年來最嚴重萎縮，背後原因是美國為減緩新冠病毒傳播而實施封鎖措施...</td>\n      <td>https://www.bbc.co.uk/zhongwen/trad/business-5...</td>\n      <td>今年 一季度 ， 美國 經濟 遭遇 了 十多年 來 最 嚴重 萎縮 ， 背 後 原因 是 美...</td>\n      <td>1</td>\n      <td>今年一季度，美國經濟遭遇了十多年來最嚴重萎縮，背後原因是美國為減緩新冠病毒傳播而實施封鎖措施...</td>\n    </tr>\n    <tr>\n      <th>14</th>\n      <td>肺炎疫情：美國反封鎖抗議潮台前與幕後</td>\n      <td>2020年 4月 29日</td>\n      <td>眼下，美國疫情依然嚴峻，新冠感染確診突破百萬，死亡沒有持續下降。但是過去兩個星期，美國多地不...</td>\n      <td>https://www.bbc.co.uk/zhongwen/trad/world-5247...</td>\n      <td>眼下 ， 美國 疫情 依然 嚴峻 ， 新冠 感染 確診 突破 百萬 ， 死亡 沒有 持續 下...</td>\n      <td>0</td>\n      <td>眼下，美國疫情依然嚴峻，新冠感染確診突破百萬，死亡沒有持續下降。綜觀反應，大惑不解之餘，也真...</td>\n    </tr>\n    <tr>\n      <th>15</th>\n      <td>肺炎疫情：在飛機上如何維持安全間隔距離</td>\n      <td>2020年 4月 29日</td>\n      <td>隨著更多國家正在計劃逐步解除新型冠狀病毒的封鎖措施，航空公司也在思考旅行禁令鬆綁後要如何恢復...</td>\n      <td>https://www.bbc.co.uk/zhongwen/trad/world-5246...</td>\n      <td>隨著 更 多國家 正在 計劃 逐步 解除 新型 冠狀 病毒 的 封鎖 措施 ， 航空公司 也...</td>\n      <td>0</td>\n      <td>已經有一些航空公司開始研究在飛機上實施安全社交距離的辦法，例如把中間座位空下來，這樣乘客之間...</td>\n    </tr>\n    <tr>\n      <th>16</th>\n      <td>肺炎疫情：康復後就有免疫力防止第二次感染？</td>\n      <td>2020年 4月 29日</td>\n      <td>新冠疫情困擾著每一個人。有關新冠病毒的許多事情我們仍然不清楚。例如，為什麼有人病情非常嚴重，...</td>\n      <td>https://www.bbc.co.uk/zhongwen/trad/world-5246...</td>\n      <td>新冠 疫情 困擾 著 每 一個 人 。 有關 新冠 病毒 的 許多 事情 我們 仍然 不 清...</td>\n      <td>1</td>\n      <td>但先天免疫反應還沒有學會識別新冠病毒，因此無法給你免疫，讓你免於感染。通過實驗讓獼猴兩次感染...</td>\n    </tr>\n    <tr>\n      <th>17</th>\n      <td>肺炎疫情：韓國本土新增歸零 亞洲抗擊新冠成效顯著的五個秘訣</td>\n      <td>2020年 4月 30日</td>\n      <td>從年初疫情在中國武漢爆發到4月底，新冠病毒已經擴散到全世界185個國家，感染人數超過300萬...</td>\n      <td>https://www.bbc.co.uk/zhongwen/trad/world-5245...</td>\n      <td>從 年初 疫情 在 中國 武漢爆 發到 4 月底 ， 新冠 病毒 已經 擴散 到 全世界 1...</td>\n      <td>2</td>\n      <td>根據台灣中央流行疫情指揮中心數字，截至4月27日，台灣累計確診病例429例，連續15天無本土...</td>\n    </tr>\n    <tr>\n      <th>18</th>\n      <td>肺炎疫情：為挽救經濟，美聯儲想出這四大招</td>\n      <td>2020年 4月 29日</td>\n      <td>美國中央銀行的決策層凖備於本周召開網上會議，將研究他們目前為應對自「大蕭條」（theGrea...</td>\n      <td>https://www.bbc.co.uk/zhongwen/trad/business-5...</td>\n      <td>美國 中央 銀行 的 決策 層 凖 備 於 本周 召開 網上 會議 ， 將 研究 他們 目前...</td>\n      <td>1</td>\n      <td>「他們基本上是採取了在全球金融危機時所使用過的措施，現在則上了類固醇，」哥倫比亞商學院的銀行...</td>\n    </tr>\n    <tr>\n      <th>19</th>\n      <td>肺炎疫情下華裔美國人的困境與機遇</td>\n      <td>2020年 4月 29日</td>\n      <td>波士頓大學工程學院副教授、華裔美國人王華在2月底新冠病毒開始在美國蔓延時，帶領馬薩諸塞州（麻...</td>\n      <td>https://www.bbc.co.uk/zhongwen/trad/world-5239...</td>\n      <td>波士 頓大學 工程 學院 副教授 、 華裔 美國人 王華 在 2 月底 新冠 病毒 開始 在...</td>\n      <td>1</td>\n      <td>波士頓大學工程學院副教授、華裔美國人王華在2月底新冠病毒開始在美國蔓延時，帶領馬薩諸塞州（麻...</td>\n    </tr>\n  </tbody>\n</table>\n</div>"
     },
     "metadata": {},
     "execution_count": 10
    }
   ],
   "source": [
    "import drawable_summary\n",
    "summary = drawable_summary.Drawable_summary(df_lda,'text_rank', 50, '3', keyword).make_summary()\n",
    "summary"
   ]
  },
  {
   "cell_type": "code",
   "execution_count": 11,
   "metadata": {},
   "outputs": [
    {
     "output_type": "execute_result",
     "data": {
      "text/plain": "'他堅稱，世衛組織在宣佈病毒構成國際關注的突發公共衛生事件之前，有效利用了那段時間，包括訪問中國以更多地了解病毒起源。美國總統特朗普周四在白宮記者會上表示，他看到過新冠病毒起源於中國實驗室的證據。特朗普有關新冠病毒起源於中國實驗室的言論被指與美國情報機構的說法不符。'"
     },
     "metadata": {},
     "execution_count": 11
    }
   ],
   "source": [
    "summary.loc[1, 'summary1']"
   ]
  },
  {
   "cell_type": "code",
   "execution_count": 12,
   "metadata": {},
   "outputs": [
    {
     "output_type": "execute_result",
     "data": {
      "text/plain": "'世界衛生組織對其應對疫情不利的批評做出回應，稱該組織在病毒爆發初期「沒有浪費時間」。世衛組織總幹事譚德塞（TedrosAdhanomGhebreyesus）說，該組織在1月30日宣佈該病毒構成國際關注的突發公共衛生事件時，已經「給了世界各地足夠的反應時間」。當時中國報告了82例病例，沒有死亡人數。如今，全球記錄的病例超過320萬，死亡23.4萬人。美國總統特朗普（DonaldTrump）表示，世衛組織對病毒的回應「確實搞砸了」，並指責該組織偏向\\u200b\\u200b中國。美國是世衛組織最大的資助國，特朗普已經表示將停止向世衛組織提供資金。在周五的新聞發佈會上，譚德塞針對組織受到的指責做出強硬辯護。他堅稱，世衛組織在宣佈病毒構成國際關注的突發公共衛生事件之前，有效利用了那段時間，包括訪問中國以更多地了解病毒起源。譚德塞證實，在宣佈病毒構成國際關注的突發公共衛生事件三個月後，該定性依舊存在。該聲明是在「非常」事件下做出的，需要全球做出回應。譚德塞說，世衛組織「嚴重」擔憂病毒在衛生系統較弱的國家加速傳播時可能造成的影響。官員稱，他們已經看到這些國家的情況令人加劇擔憂，包括海地、索馬里和蘇丹。世衛組織還敦促各國放寬隔離措施的範圍，並謹慎行事。世衛組織強調，如果封鎖措施放鬆，要加強監測潛在的新一輪暴發。當被問及與美國的關係時，譚德塞稱，聯合國機構要與美國「不斷保持聯繫」。美國總統特朗普周四在白宮記者會上表示，他看到過新冠病毒起源於中國實驗室的證據。世衛組織緊急情況負責人邁克爾·瑞安（MichaelRyan）在周五談到了這種說法。他說：「關於病毒是否在武漢起源，我們反覆聽了許多研究（遺傳）序列的科學家給出的報告，我們確信這種\\u200b\\u200b病毒是自然產生的。」譚德塞還說，了解有關動物宿主的更多信息，以及該病毒如何從動物傳給人類「非常重要」。中國外交部駁斥了實驗室洩漏病毒的說法，並批評美國應對新冠病毒的措施。特朗普有關新冠病毒起源於中國實驗室的言論被指與美國情報機構的說法不符。就在周四當天，美國國家情報總監辦公室表示，仍在調查疫病的起源，已經確定新冠病毒「並非人造或基因改造而成」。'"
     },
     "metadata": {},
     "execution_count": 12
    }
   ],
   "source": [
    "summary.loc[1, 'content']"
   ]
  }
 ],
 "metadata": {
  "language_info": {
   "codemirror_mode": {
    "name": "ipython",
    "version": 3
   },
   "file_extension": ".py",
   "mimetype": "text/x-python",
   "name": "python",
   "nbconvert_exporter": "python",
   "pygments_lexer": "ipython3",
   "version": "3.8.2-final"
  },
  "orig_nbformat": 2,
  "kernelspec": {
   "name": "python38232bitba851140d21b4b21a0cb1503d41cd0fe",
   "display_name": "Python 3.8.2 32-bit"
  }
 },
 "nbformat": 4,
 "nbformat_minor": 2
}